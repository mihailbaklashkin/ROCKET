{
 "cells": [
  {
   "cell_type": "code",
   "execution_count": 107,
   "metadata": {},
   "outputs": [],
   "source": [
    "import os\n",
    "\n",
    "import matplotlib.pyplot as plt\n",
    "import numpy as np\n",
    "import pandas as pd\n",
    "\n",
    "import skops.io as sio\n",
    "import torch\n",
    "\n",
    "from itertools import combinations\n",
    "\n",
    "from scipy.io import arff\n",
    "from scipy.stats import ttest_ind, ttest_1samp\n",
    "from sklearn.linear_model import RidgeClassifierCV\n",
    "from sklearn.preprocessing import StandardScaler\n",
    "from tqdm import tqdm\n",
    "\n",
    "from classifier import FeatureExtractor\n",
    "from classifier import train_model, test_model\n",
    "\n",
    "np.random.seed(0)"
   ]
  },
  {
   "attachments": {},
   "cell_type": "markdown",
   "metadata": {},
   "source": [
    "На датасете [Ham](https://www.timeseriesclassification.com/description.php?Dataset=Ham) протестирован метод классификации временных рядов, представленный в [Dempster et al: exceptionally fast and accurate time series classification using random convolutional kernels](https://arxiv.org/abs/1910.13051). Сравним результаты с полученной в статье тестовой $accuracy = 0.7257.$\n",
    "\n",
    "Метод состоит в следующем: на основе большого числа случайных (но фиксированных при обучении) сверток генерируется вектор признаков, к которому затем применяется линейный классификатор. \n",
    "\n",
    "В этом ноутбуке сравниваются 3 способа генерации весов случайных сверток: на основе 1) нормального распределения, 2) случайного выбора из $[-1, 1]$, 3) случайного выбора из $[-1, 0, 1].$ Остальные параметры зафиксированы как в статье."
   ]
  },
  {
   "attachments": {},
   "cell_type": "markdown",
   "metadata": {},
   "source": [
    "# Загрузка и предобработка данных"
   ]
  },
  {
   "attachments": {},
   "cell_type": "markdown",
   "metadata": {},
   "source": [
    "Обзор структуры, проверка на наличие пропущенных значений и перевод в формат, который может принять модель."
   ]
  },
  {
   "cell_type": "code",
   "execution_count": 2,
   "metadata": {},
   "outputs": [
    {
     "data": {
      "text/html": [
       "<div>\n",
       "<style scoped>\n",
       "    .dataframe tbody tr th:only-of-type {\n",
       "        vertical-align: middle;\n",
       "    }\n",
       "\n",
       "    .dataframe tbody tr th {\n",
       "        vertical-align: top;\n",
       "    }\n",
       "\n",
       "    .dataframe thead th {\n",
       "        text-align: right;\n",
       "    }\n",
       "</style>\n",
       "<table border=\"1\" class=\"dataframe\">\n",
       "  <thead>\n",
       "    <tr style=\"text-align: right;\">\n",
       "      <th></th>\n",
       "      <th>att1</th>\n",
       "      <th>att2</th>\n",
       "      <th>att3</th>\n",
       "      <th>att4</th>\n",
       "      <th>att5</th>\n",
       "      <th>att6</th>\n",
       "      <th>att7</th>\n",
       "      <th>att8</th>\n",
       "      <th>att9</th>\n",
       "      <th>att10</th>\n",
       "      <th>...</th>\n",
       "      <th>att423</th>\n",
       "      <th>att424</th>\n",
       "      <th>att425</th>\n",
       "      <th>att426</th>\n",
       "      <th>att427</th>\n",
       "      <th>att428</th>\n",
       "      <th>att429</th>\n",
       "      <th>att430</th>\n",
       "      <th>att431</th>\n",
       "      <th>target</th>\n",
       "    </tr>\n",
       "  </thead>\n",
       "  <tbody>\n",
       "    <tr>\n",
       "      <th>84</th>\n",
       "      <td>-0.678676</td>\n",
       "      <td>-0.692275</td>\n",
       "      <td>-0.700148</td>\n",
       "      <td>-0.701222</td>\n",
       "      <td>-0.700506</td>\n",
       "      <td>-0.696927</td>\n",
       "      <td>-0.689412</td>\n",
       "      <td>-0.679392</td>\n",
       "      <td>-0.669729</td>\n",
       "      <td>-0.661140</td>\n",
       "      <td>...</td>\n",
       "      <td>0.363438</td>\n",
       "      <td>0.120087</td>\n",
       "      <td>-0.091056</td>\n",
       "      <td>-0.255675</td>\n",
       "      <td>-0.373772</td>\n",
       "      <td>-0.452503</td>\n",
       "      <td>-0.499742</td>\n",
       "      <td>-0.521572</td>\n",
       "      <td>-0.526224</td>\n",
       "      <td>b'2'</td>\n",
       "    </tr>\n",
       "    <tr>\n",
       "      <th>10</th>\n",
       "      <td>-0.664186</td>\n",
       "      <td>-0.639378</td>\n",
       "      <td>-0.601115</td>\n",
       "      <td>-0.543510</td>\n",
       "      <td>-0.476235</td>\n",
       "      <td>-0.434188</td>\n",
       "      <td>-0.421573</td>\n",
       "      <td>-0.421573</td>\n",
       "      <td>-0.429983</td>\n",
       "      <td>-0.451006</td>\n",
       "      <td>...</td>\n",
       "      <td>-0.329070</td>\n",
       "      <td>-0.582614</td>\n",
       "      <td>-0.739450</td>\n",
       "      <td>-0.818499</td>\n",
       "      <td>-0.847091</td>\n",
       "      <td>-0.852978</td>\n",
       "      <td>-0.842466</td>\n",
       "      <td>-0.812612</td>\n",
       "      <td>-0.784441</td>\n",
       "      <td>b'1'</td>\n",
       "    </tr>\n",
       "    <tr>\n",
       "      <th>75</th>\n",
       "      <td>-0.721131</td>\n",
       "      <td>-0.659126</td>\n",
       "      <td>-0.623255</td>\n",
       "      <td>-0.669375</td>\n",
       "      <td>-0.752389</td>\n",
       "      <td>-0.772887</td>\n",
       "      <td>-0.766225</td>\n",
       "      <td>-0.765713</td>\n",
       "      <td>-0.781086</td>\n",
       "      <td>-0.798509</td>\n",
       "      <td>...</td>\n",
       "      <td>0.586096</td>\n",
       "      <td>0.263261</td>\n",
       "      <td>-0.049326</td>\n",
       "      <td>-0.320918</td>\n",
       "      <td>-0.515644</td>\n",
       "      <td>-0.633504</td>\n",
       "      <td>-0.690385</td>\n",
       "      <td>-0.710882</td>\n",
       "      <td>-0.718569</td>\n",
       "      <td>b'2'</td>\n",
       "    </tr>\n",
       "    <tr>\n",
       "      <th>2</th>\n",
       "      <td>-0.695711</td>\n",
       "      <td>-0.702015</td>\n",
       "      <td>-0.695317</td>\n",
       "      <td>-0.677191</td>\n",
       "      <td>-0.640544</td>\n",
       "      <td>-0.558976</td>\n",
       "      <td>-0.436034</td>\n",
       "      <td>-0.365105</td>\n",
       "      <td>-0.361165</td>\n",
       "      <td>-0.392688</td>\n",
       "      <td>...</td>\n",
       "      <td>-0.392688</td>\n",
       "      <td>-0.455736</td>\n",
       "      <td>-0.530605</td>\n",
       "      <td>-0.606262</td>\n",
       "      <td>-0.684677</td>\n",
       "      <td>-0.760334</td>\n",
       "      <td>-0.818653</td>\n",
       "      <td>-0.852147</td>\n",
       "      <td>-0.865545</td>\n",
       "      <td>b'1'</td>\n",
       "    </tr>\n",
       "    <tr>\n",
       "      <th>24</th>\n",
       "      <td>-0.925798</td>\n",
       "      <td>-0.905106</td>\n",
       "      <td>-0.887431</td>\n",
       "      <td>-0.886138</td>\n",
       "      <td>-0.891311</td>\n",
       "      <td>-0.903381</td>\n",
       "      <td>-0.915452</td>\n",
       "      <td>-0.920194</td>\n",
       "      <td>-0.920194</td>\n",
       "      <td>-0.919332</td>\n",
       "      <td>...</td>\n",
       "      <td>0.656295</td>\n",
       "      <td>0.134678</td>\n",
       "      <td>-0.223125</td>\n",
       "      <td>-0.447290</td>\n",
       "      <td>-0.574892</td>\n",
       "      <td>-0.643866</td>\n",
       "      <td>-0.671456</td>\n",
       "      <td>-0.681802</td>\n",
       "      <td>-0.683958</td>\n",
       "      <td>b'1'</td>\n",
       "    </tr>\n",
       "  </tbody>\n",
       "</table>\n",
       "<p>5 rows × 432 columns</p>\n",
       "</div>"
      ],
      "text/plain": [
       "        att1      att2      att3      att4      att5      att6      att7  \\\n",
       "84 -0.678676 -0.692275 -0.700148 -0.701222 -0.700506 -0.696927 -0.689412   \n",
       "10 -0.664186 -0.639378 -0.601115 -0.543510 -0.476235 -0.434188 -0.421573   \n",
       "75 -0.721131 -0.659126 -0.623255 -0.669375 -0.752389 -0.772887 -0.766225   \n",
       "2  -0.695711 -0.702015 -0.695317 -0.677191 -0.640544 -0.558976 -0.436034   \n",
       "24 -0.925798 -0.905106 -0.887431 -0.886138 -0.891311 -0.903381 -0.915452   \n",
       "\n",
       "        att8      att9     att10  ...    att423    att424    att425    att426  \\\n",
       "84 -0.679392 -0.669729 -0.661140  ...  0.363438  0.120087 -0.091056 -0.255675   \n",
       "10 -0.421573 -0.429983 -0.451006  ... -0.329070 -0.582614 -0.739450 -0.818499   \n",
       "75 -0.765713 -0.781086 -0.798509  ...  0.586096  0.263261 -0.049326 -0.320918   \n",
       "2  -0.365105 -0.361165 -0.392688  ... -0.392688 -0.455736 -0.530605 -0.606262   \n",
       "24 -0.920194 -0.920194 -0.919332  ...  0.656295  0.134678 -0.223125 -0.447290   \n",
       "\n",
       "      att427    att428    att429    att430    att431  target  \n",
       "84 -0.373772 -0.452503 -0.499742 -0.521572 -0.526224    b'2'  \n",
       "10 -0.847091 -0.852978 -0.842466 -0.812612 -0.784441    b'1'  \n",
       "75 -0.515644 -0.633504 -0.690385 -0.710882 -0.718569    b'2'  \n",
       "2  -0.684677 -0.760334 -0.818653 -0.852147 -0.865545    b'1'  \n",
       "24 -0.574892 -0.643866 -0.671456 -0.681802 -0.683958    b'1'  \n",
       "\n",
       "[5 rows x 432 columns]"
      ]
     },
     "execution_count": 2,
     "metadata": {},
     "output_type": "execute_result"
    }
   ],
   "source": [
    "train = arff.loadarff(\"Ham/Ham_TRAIN.arff\")\n",
    "train = pd.DataFrame(train[0])\n",
    "train = train.sample(frac=1)\n",
    "train.head()"
   ]
  },
  {
   "cell_type": "code",
   "execution_count": 3,
   "metadata": {},
   "outputs": [
    {
     "data": {
      "text/plain": [
       "array([0])"
      ]
     },
     "execution_count": 3,
     "metadata": {},
     "output_type": "execute_result"
    }
   ],
   "source": [
    "train.isnull().sum().unique()"
   ]
  },
  {
   "cell_type": "code",
   "execution_count": 4,
   "metadata": {},
   "outputs": [
    {
     "data": {
      "text/plain": [
       "array([b'2', b'1'], dtype=object)"
      ]
     },
     "execution_count": 4,
     "metadata": {},
     "output_type": "execute_result"
    }
   ],
   "source": [
    "train.target.unique()"
   ]
  },
  {
   "cell_type": "code",
   "execution_count": 5,
   "metadata": {},
   "outputs": [],
   "source": [
    "train.target = train.target.astype(int)"
   ]
  },
  {
   "cell_type": "code",
   "execution_count": 6,
   "metadata": {},
   "outputs": [
    {
     "data": {
      "text/html": [
       "<div>\n",
       "<style scoped>\n",
       "    .dataframe tbody tr th:only-of-type {\n",
       "        vertical-align: middle;\n",
       "    }\n",
       "\n",
       "    .dataframe tbody tr th {\n",
       "        vertical-align: top;\n",
       "    }\n",
       "\n",
       "    .dataframe thead th {\n",
       "        text-align: right;\n",
       "    }\n",
       "</style>\n",
       "<table border=\"1\" class=\"dataframe\">\n",
       "  <thead>\n",
       "    <tr style=\"text-align: right;\">\n",
       "      <th></th>\n",
       "      <th>att1</th>\n",
       "      <th>att2</th>\n",
       "      <th>att3</th>\n",
       "      <th>att4</th>\n",
       "      <th>att5</th>\n",
       "      <th>att6</th>\n",
       "      <th>att7</th>\n",
       "      <th>att8</th>\n",
       "      <th>att9</th>\n",
       "      <th>att10</th>\n",
       "      <th>...</th>\n",
       "      <th>att423</th>\n",
       "      <th>att424</th>\n",
       "      <th>att425</th>\n",
       "      <th>att426</th>\n",
       "      <th>att427</th>\n",
       "      <th>att428</th>\n",
       "      <th>att429</th>\n",
       "      <th>att430</th>\n",
       "      <th>att431</th>\n",
       "      <th>target</th>\n",
       "    </tr>\n",
       "  </thead>\n",
       "  <tbody>\n",
       "    <tr>\n",
       "      <th>84</th>\n",
       "      <td>-0.678676</td>\n",
       "      <td>-0.692275</td>\n",
       "      <td>-0.700148</td>\n",
       "      <td>-0.701222</td>\n",
       "      <td>-0.700506</td>\n",
       "      <td>-0.696927</td>\n",
       "      <td>-0.689412</td>\n",
       "      <td>-0.679392</td>\n",
       "      <td>-0.669729</td>\n",
       "      <td>-0.661140</td>\n",
       "      <td>...</td>\n",
       "      <td>0.363438</td>\n",
       "      <td>0.120087</td>\n",
       "      <td>-0.091056</td>\n",
       "      <td>-0.255675</td>\n",
       "      <td>-0.373772</td>\n",
       "      <td>-0.452503</td>\n",
       "      <td>-0.499742</td>\n",
       "      <td>-0.521572</td>\n",
       "      <td>-0.526224</td>\n",
       "      <td>2</td>\n",
       "    </tr>\n",
       "    <tr>\n",
       "      <th>10</th>\n",
       "      <td>-0.664186</td>\n",
       "      <td>-0.639378</td>\n",
       "      <td>-0.601115</td>\n",
       "      <td>-0.543510</td>\n",
       "      <td>-0.476235</td>\n",
       "      <td>-0.434188</td>\n",
       "      <td>-0.421573</td>\n",
       "      <td>-0.421573</td>\n",
       "      <td>-0.429983</td>\n",
       "      <td>-0.451006</td>\n",
       "      <td>...</td>\n",
       "      <td>-0.329070</td>\n",
       "      <td>-0.582614</td>\n",
       "      <td>-0.739450</td>\n",
       "      <td>-0.818499</td>\n",
       "      <td>-0.847091</td>\n",
       "      <td>-0.852978</td>\n",
       "      <td>-0.842466</td>\n",
       "      <td>-0.812612</td>\n",
       "      <td>-0.784441</td>\n",
       "      <td>1</td>\n",
       "    </tr>\n",
       "    <tr>\n",
       "      <th>75</th>\n",
       "      <td>-0.721131</td>\n",
       "      <td>-0.659126</td>\n",
       "      <td>-0.623255</td>\n",
       "      <td>-0.669375</td>\n",
       "      <td>-0.752389</td>\n",
       "      <td>-0.772887</td>\n",
       "      <td>-0.766225</td>\n",
       "      <td>-0.765713</td>\n",
       "      <td>-0.781086</td>\n",
       "      <td>-0.798509</td>\n",
       "      <td>...</td>\n",
       "      <td>0.586096</td>\n",
       "      <td>0.263261</td>\n",
       "      <td>-0.049326</td>\n",
       "      <td>-0.320918</td>\n",
       "      <td>-0.515644</td>\n",
       "      <td>-0.633504</td>\n",
       "      <td>-0.690385</td>\n",
       "      <td>-0.710882</td>\n",
       "      <td>-0.718569</td>\n",
       "      <td>2</td>\n",
       "    </tr>\n",
       "    <tr>\n",
       "      <th>2</th>\n",
       "      <td>-0.695711</td>\n",
       "      <td>-0.702015</td>\n",
       "      <td>-0.695317</td>\n",
       "      <td>-0.677191</td>\n",
       "      <td>-0.640544</td>\n",
       "      <td>-0.558976</td>\n",
       "      <td>-0.436034</td>\n",
       "      <td>-0.365105</td>\n",
       "      <td>-0.361165</td>\n",
       "      <td>-0.392688</td>\n",
       "      <td>...</td>\n",
       "      <td>-0.392688</td>\n",
       "      <td>-0.455736</td>\n",
       "      <td>-0.530605</td>\n",
       "      <td>-0.606262</td>\n",
       "      <td>-0.684677</td>\n",
       "      <td>-0.760334</td>\n",
       "      <td>-0.818653</td>\n",
       "      <td>-0.852147</td>\n",
       "      <td>-0.865545</td>\n",
       "      <td>1</td>\n",
       "    </tr>\n",
       "    <tr>\n",
       "      <th>24</th>\n",
       "      <td>-0.925798</td>\n",
       "      <td>-0.905106</td>\n",
       "      <td>-0.887431</td>\n",
       "      <td>-0.886138</td>\n",
       "      <td>-0.891311</td>\n",
       "      <td>-0.903381</td>\n",
       "      <td>-0.915452</td>\n",
       "      <td>-0.920194</td>\n",
       "      <td>-0.920194</td>\n",
       "      <td>-0.919332</td>\n",
       "      <td>...</td>\n",
       "      <td>0.656295</td>\n",
       "      <td>0.134678</td>\n",
       "      <td>-0.223125</td>\n",
       "      <td>-0.447290</td>\n",
       "      <td>-0.574892</td>\n",
       "      <td>-0.643866</td>\n",
       "      <td>-0.671456</td>\n",
       "      <td>-0.681802</td>\n",
       "      <td>-0.683958</td>\n",
       "      <td>1</td>\n",
       "    </tr>\n",
       "  </tbody>\n",
       "</table>\n",
       "<p>5 rows × 432 columns</p>\n",
       "</div>"
      ],
      "text/plain": [
       "        att1      att2      att3      att4      att5      att6      att7  \\\n",
       "84 -0.678676 -0.692275 -0.700148 -0.701222 -0.700506 -0.696927 -0.689412   \n",
       "10 -0.664186 -0.639378 -0.601115 -0.543510 -0.476235 -0.434188 -0.421573   \n",
       "75 -0.721131 -0.659126 -0.623255 -0.669375 -0.752389 -0.772887 -0.766225   \n",
       "2  -0.695711 -0.702015 -0.695317 -0.677191 -0.640544 -0.558976 -0.436034   \n",
       "24 -0.925798 -0.905106 -0.887431 -0.886138 -0.891311 -0.903381 -0.915452   \n",
       "\n",
       "        att8      att9     att10  ...    att423    att424    att425    att426  \\\n",
       "84 -0.679392 -0.669729 -0.661140  ...  0.363438  0.120087 -0.091056 -0.255675   \n",
       "10 -0.421573 -0.429983 -0.451006  ... -0.329070 -0.582614 -0.739450 -0.818499   \n",
       "75 -0.765713 -0.781086 -0.798509  ...  0.586096  0.263261 -0.049326 -0.320918   \n",
       "2  -0.365105 -0.361165 -0.392688  ... -0.392688 -0.455736 -0.530605 -0.606262   \n",
       "24 -0.920194 -0.920194 -0.919332  ...  0.656295  0.134678 -0.223125 -0.447290   \n",
       "\n",
       "      att427    att428    att429    att430    att431  target  \n",
       "84 -0.373772 -0.452503 -0.499742 -0.521572 -0.526224       2  \n",
       "10 -0.847091 -0.852978 -0.842466 -0.812612 -0.784441       1  \n",
       "75 -0.515644 -0.633504 -0.690385 -0.710882 -0.718569       2  \n",
       "2  -0.684677 -0.760334 -0.818653 -0.852147 -0.865545       1  \n",
       "24 -0.574892 -0.643866 -0.671456 -0.681802 -0.683958       1  \n",
       "\n",
       "[5 rows x 432 columns]"
      ]
     },
     "execution_count": 6,
     "metadata": {},
     "output_type": "execute_result"
    }
   ],
   "source": [
    "train.head()"
   ]
  },
  {
   "cell_type": "code",
   "execution_count": 7,
   "metadata": {},
   "outputs": [
    {
     "data": {
      "text/plain": [
       "(109, 432)"
      ]
     },
     "execution_count": 7,
     "metadata": {},
     "output_type": "execute_result"
    }
   ],
   "source": [
    "train.shape"
   ]
  },
  {
   "cell_type": "code",
   "execution_count": 8,
   "metadata": {},
   "outputs": [],
   "source": [
    "train_inputs = torch.tensor(train.iloc[:, :-1].values, dtype=torch.float)\n",
    "train_inputs = train_inputs.reshape((train_inputs.shape[0], 1, train_inputs.shape[1]))\n",
    "train_labels = train.iloc[:, -1:].values.ravel()\n"
   ]
  },
  {
   "cell_type": "code",
   "execution_count": 9,
   "metadata": {},
   "outputs": [],
   "source": [
    "test = arff.loadarff(\"Ham/Ham_TEST.arff\")\n",
    "test = pd.DataFrame(test[0])\n",
    "test_inputs = torch.tensor(test.iloc[:, :-1].values, dtype=torch.float)\n",
    "test_inputs = test_inputs.reshape((test_inputs.shape[0], 1, test_inputs.shape[1]))\n",
    "test_labels = test.iloc[:, -1:].astype(int).values.ravel()\n"
   ]
  },
  {
   "attachments": {},
   "cell_type": "markdown",
   "metadata": {},
   "source": [
    "# Эксперименты."
   ]
  },
  {
   "attachments": {},
   "cell_type": "markdown",
   "metadata": {},
   "source": [
    "### 1. Семплирование весов из нормального распределения."
   ]
  },
  {
   "cell_type": "code",
   "execution_count": 10,
   "metadata": {},
   "outputs": [],
   "source": [
    "num_iterations = 100\n",
    "accuracy_histories = {\n",
    "    \"normal\": None,\n",
    "    \"binary\": None,\n",
    "    \"tertiary\": None\n",
    "}"
   ]
  },
  {
   "cell_type": "code",
   "execution_count": 13,
   "metadata": {},
   "outputs": [
    {
     "name": "stderr",
     "output_type": "stream",
     "text": [
      "Examining models with normal kernel sampling: 100%|██████████| 100/100 [45:19<00:00, 27.20s/it]\n"
     ]
    }
   ],
   "source": [
    "kernel_sampling_type = \"normal\"\n",
    "os.makedirs(f\"models/{kernel_sampling_type}_sampling/\", exist_ok=True)\n",
    "\n",
    "num_iterations = 100\n",
    "accuracy_history = np.zeros(num_iterations)\n",
    "best_accuracy = 0\n",
    "desc = f\"Examining models with {kernel_sampling_type} kernel sampling\"\n",
    "for i in tqdm(range(num_iterations), desc=desc, maxinterval=0.1):\n",
    "    feature_extractor = FeatureExtractor(input_size=train_inputs.shape[-1], num_conv=10000, kernel_sampling_type=kernel_sampling_type)\n",
    "    scaler = StandardScaler()\n",
    "    classifier = RidgeClassifierCV(alphas = np.logspace(-3, 3, 10))\n",
    "    \n",
    "    train_model(classifier, feature_extractor, scaler, train_inputs, train_labels)\n",
    "    accuracy = test_model(classifier, feature_extractor, scaler, test_inputs, test_labels)\n",
    "    accuracy_history[i] = accuracy\n",
    "    if accuracy > best_accuracy:\n",
    "        best_accuracy = accuracy\n",
    "\n",
    "        torch.save(feature_extractor.state_dict(), f=f\"models/{kernel_sampling_type}_sampling/feature_extractor.pt\")\n",
    "        sio.dump(scaler, file=f\"models/{kernel_sampling_type}_sampling/scaler.skops\")\n",
    "        sio.dump(classifier, file=f\"models/{kernel_sampling_type}_sampling/classifier.skops\")\n",
    "\n",
    "accuracy_histories[kernel_sampling_type] = accuracy_history"
   ]
  },
  {
   "attachments": {},
   "cell_type": "markdown",
   "metadata": {},
   "source": [
    "### 2. Семплирование весов из равномерного дискретного распределения [-1, 1]."
   ]
  },
  {
   "cell_type": "code",
   "execution_count": 14,
   "metadata": {},
   "outputs": [
    {
     "name": "stderr",
     "output_type": "stream",
     "text": [
      "Examining models with binary kernel sampling: 100%|██████████| 100/100 [45:27<00:00, 27.27s/it]\n"
     ]
    }
   ],
   "source": [
    "kernel_sampling_type = \"binary\"\n",
    "os.makedirs(f\"models/{kernel_sampling_type}_sampling/\", exist_ok=True)\n",
    "\n",
    "num_iterations = 100\n",
    "accuracy_history = np.zeros(num_iterations)\n",
    "best_accuracy = 0\n",
    "desc = f\"Examining models with {kernel_sampling_type} kernel sampling\"\n",
    "for i in tqdm(range(num_iterations), desc=desc):\n",
    "    feature_extractor = FeatureExtractor(input_size=train_inputs.shape[-1], num_conv=10000, kernel_sampling_type=kernel_sampling_type)\n",
    "    scaler = StandardScaler()\n",
    "    classifier = RidgeClassifierCV(alphas = np.logspace(-3, 3, 10))\n",
    "    \n",
    "    train_model(classifier, feature_extractor, scaler, train_inputs, train_labels)\n",
    "    accuracy = test_model(classifier, feature_extractor, scaler, test_inputs, test_labels)\n",
    "    accuracy_history[i] = accuracy\n",
    "    if accuracy > best_accuracy:\n",
    "        best_accuracy = accuracy\n",
    "\n",
    "        torch.save(feature_extractor.state_dict(), f=f\"models/{kernel_sampling_type}_sampling/feature_extractor.pt\")\n",
    "        sio.dump(scaler, file=f\"models/{kernel_sampling_type}_sampling/scaler.skops\")\n",
    "        sio.dump(classifier, file=f\"models/{kernel_sampling_type}_sampling/classifier.skops\")\n",
    "\n",
    "accuracy_histories[kernel_sampling_type] = accuracy_history"
   ]
  },
  {
   "attachments": {},
   "cell_type": "markdown",
   "metadata": {},
   "source": [
    "### 3. Семплирование весов из равномерного дискретного распределения [-1, 0, 1]."
   ]
  },
  {
   "cell_type": "code",
   "execution_count": 15,
   "metadata": {},
   "outputs": [
    {
     "name": "stderr",
     "output_type": "stream",
     "text": [
      "Examining models with tertiary kernel sampling: 100%|██████████| 100/100 [44:10<00:00, 26.51s/it]\n"
     ]
    }
   ],
   "source": [
    "kernel_sampling_type = \"tertiary\"\n",
    "os.makedirs(f\"models/{kernel_sampling_type}_sampling/\", exist_ok=True)\n",
    "\n",
    "num_iterations = 100\n",
    "accuracy_history = np.zeros(num_iterations)\n",
    "best_accuracy = 0\n",
    "desc = f\"Examining models with {kernel_sampling_type} kernel sampling\"\n",
    "for i in tqdm(range(num_iterations), desc=desc):\n",
    "    feature_extractor = FeatureExtractor(input_size=train_inputs.shape[-1], num_conv=10000, kernel_sampling_type=kernel_sampling_type)\n",
    "    scaler = StandardScaler()\n",
    "    classifier = RidgeClassifierCV(alphas = np.logspace(-3, 3, 10))\n",
    "    \n",
    "    train_model(classifier, feature_extractor, scaler, train_inputs, train_labels)\n",
    "    accuracy = test_model(classifier, feature_extractor, scaler, test_inputs, test_labels)\n",
    "    accuracy_history[i] = accuracy\n",
    "    if accuracy > best_accuracy:\n",
    "        best_accuracy = accuracy\n",
    "\n",
    "        torch.save(feature_extractor.state_dict(), f=f\"models/{kernel_sampling_type}_sampling/feature_extractor.pt\")\n",
    "        sio.dump(scaler, file=f\"models/{kernel_sampling_type}_sampling/scaler.skops\")\n",
    "        sio.dump(classifier, file=f\"models/{kernel_sampling_type}_sampling/classifier.skops\")\n",
    "\n",
    "accuracy_histories[kernel_sampling_type] = accuracy_history"
   ]
  },
  {
   "attachments": {},
   "cell_type": "markdown",
   "metadata": {},
   "source": [
    "# Анализ результатов."
   ]
  },
  {
   "attachments": {},
   "cell_type": "markdown",
   "metadata": {},
   "source": [
    "Посчитаем доверительные интервалы полученных accuracy."
   ]
  },
  {
   "cell_type": "code",
   "execution_count": 94,
   "metadata": {},
   "outputs": [
    {
     "name": "stdout",
     "output_type": "stream",
     "text": [
      "95% confidence intervals for average accuracy:\n",
      "\n",
      "normal: 0.7224 ± 0.0271\n",
      "binary: 0.7359 ± 0.0332\n",
      "tertiary: 0.7284 ± 0.0275\n"
     ]
    }
   ],
   "source": [
    "means = []\n",
    "stds = []\n",
    "print(\"95% confidence intervals for average accuracy:\\n\")\n",
    "for i, (kernel_sampling_type, accuracy_history) in enumerate(accuracy_histories.items()):\n",
    "    means.append(accuracy_history.mean())\n",
    "    stds.append(accuracy_history.std())\n",
    "    print(\"{}: {:.4f} \\u00B1 {:.4f}\".format(kernel_sampling_type, means[i], 2 * stds[i]))"
   ]
  },
  {
   "cell_type": "code",
   "execution_count": 112,
   "metadata": {},
   "outputs": [
    {
     "data": {
      "image/png": "[encoded data removed]",
      "text/plain": [
       "<Figure size 700x500 with 1 Axes>"
      ]
     },
     "metadata": {},
     "output_type": "display_data"
    }
   ],
   "source": [
    "# Отрисуем доверительные интервалы \n",
    "plt.figure(figsize=(7, 5))\n",
    "plt.violinplot(\n",
    "    accuracy_histories.values(),\n",
    "    showmeans=True,\n",
    "    showextrema=False,\n",
    "    quantiles=[[0.025, 0.9775] for _ in range(3)]\n",
    ")\n",
    "plt.hlines(0.7257, 0, 4, colors=[\"black\"], alpha=0.4)\n",
    "\n",
    "plt.xticks((1, 2, 3), labels=accuracy_histories.keys())\n",
    "plt.yticks([0.7, 0.7257, 0.76], labels=[\"0.7\", \"0.7257\", \"0.76\"])\n",
    "plt.xlim(0, 4)\n",
    "plt.ylim(0.65, 0.8)\n",
    "\n",
    "plt.xlabel(\"KERNEL SAMPLING TYPE\")\n",
    "plt.ylabel(\"TEST ACCURACY\")\n",
    "plt.title(\"Obtained test accuracy against baseline accuracy = 0.7257\")\n",
    "\n",
    "plt.show()"
   ]
  },
  {
   "attachments": {},
   "cell_type": "markdown",
   "metadata": {},
   "source": [
    "Сравним полученные результаты для семплирования из нормального распределения с бейзлайном из статьи. Используем для этого одновыборочный t-критерий."
   ]
  },
  {
   "cell_type": "code",
   "execution_count": 120,
   "metadata": {},
   "outputs": [
    {
     "name": "stdout",
     "output_type": "stream",
     "text": [
      "TtestResult(statistic=-2.4352297926547046, pvalue=0.016671419339314486, df=99)\n"
     ]
    }
   ],
   "source": [
    "baseline_accuracy = 0.7257\n",
    "print(ttest_1samp(accuracy_histories[\"normal\"], baseline_accuracy))"
   ]
  },
  {
   "attachments": {},
   "cell_type": "markdown",
   "metadata": {},
   "source": [
    "Критерий отклонил альтернативную гипотезу, следовательно для нормального распределения результат соответствует результату статьи. "
   ]
  },
  {
   "attachments": {},
   "cell_type": "markdown",
   "metadata": {},
   "source": [
    "Сравним попарно результаты для разных методов семплирования с помощью двухвыборочного t-критерия."
   ]
  },
  {
   "cell_type": "code",
   "execution_count": 123,
   "metadata": {},
   "outputs": [
    {
     "name": "stdout",
     "output_type": "stream",
     "text": [
      "normal, binary: 2.1239273003639732e-09\n",
      "normal, tertiary: 0.0022945649846516317\n",
      "binary, tertiary: 0.0006352008319861447\n"
     ]
    }
   ],
   "source": [
    "for kst1, kst2 in combinations(accuracy_histories, 2):\n",
    "    print(f\"{kst1}, {kst2}: {ttest_ind(accuracy_histories[kst1], accuracy_histories[kst2]).pvalue}\")"
   ]
  },
  {
   "attachments": {},
   "cell_type": "markdown",
   "metadata": {},
   "source": [
    "Отличия между точностью моделей статистически значимы, при этом варианты с дискретным выбором показали улучшение по сравнению с семплированием из нормального распределения. Дополнительно заметим, что семплирование из 2 значений дало небольшой прирост по сравнению с семплированием из 3 значений.\n",
    "\n",
    "Этот результат отличается от результатов авторов для так называемых 'development datasets' (Ham в них не входит), где разница между этими подходами оказалась не статитически значимой."
   ]
  },
  {
   "cell_type": "markdown",
   "metadata": {},
   "source": []
  }
 ],
 "metadata": {
  "kernelspec": {
   "display_name": "Python 3",
   "language": "python",
   "name": "python3"
  },
  "language_info": {
   "codemirror_mode": {
    "name": "ipython",
    "version": 3
   },
   "file_extension": ".py",
   "mimetype": "text/x-python",
   "name": "python",
   "nbconvert_exporter": "python",
   "pygments_lexer": "ipython3",
   "version": "3.11.2"
  },
  "orig_nbformat": 4
 },
 "nbformat": 4,
 "nbformat_minor": 2
}
